{
  "nbformat": 4,
  "nbformat_minor": 0,
  "metadata": {
    "colab": {
      "provenance": [],
      "authorship_tag": "ABX9TyM429lpkHcz4YQXAA71t238",
      "include_colab_link": true
    },
    "kernelspec": {
      "name": "python3",
      "display_name": "Python 3"
    },
    "language_info": {
      "name": "python"
    }
  },
  "cells": [
    {
      "cell_type": "markdown",
      "metadata": {
        "id": "view-in-github",
        "colab_type": "text"
      },
      "source": [
        "<a href=\"https://colab.research.google.com/github/GALDINOEB2/GALDINOEB2/blob/main/TREINAMENTO22DEMAIO2025.ipynb\" target=\"_parent\"><img src=\"https://colab.research.google.com/assets/colab-badge.svg\" alt=\"Open In Colab\"/></a>"
      ]
    },
    {
      "cell_type": "code",
      "execution_count": 1,
      "metadata": {
        "colab": {
          "base_uri": "https://localhost:8080/"
        },
        "id": "HAN8zeb3GG6Y",
        "outputId": "babf7b33-46f1-4e6f-ceff-17e2ec143bc4"
      },
      "outputs": [
        {
          "output_type": "execute_result",
          "data": {
            "text/plain": [
              "9"
            ]
          },
          "metadata": {},
          "execution_count": 1
        }
      ],
      "source": [
        "2+7"
      ]
    },
    {
      "cell_type": "code",
      "source": [
        "9-5"
      ],
      "metadata": {
        "colab": {
          "base_uri": "https://localhost:8080/"
        },
        "id": "rZ2OSPtOHL_f",
        "outputId": "427db5cc-ddfe-4072-b9b0-7b264f68e24a"
      },
      "execution_count": 2,
      "outputs": [
        {
          "output_type": "execute_result",
          "data": {
            "text/plain": [
              "4"
            ]
          },
          "metadata": {},
          "execution_count": 2
        }
      ]
    },
    {
      "cell_type": "code",
      "source": [
        "7*5"
      ],
      "metadata": {
        "colab": {
          "base_uri": "https://localhost:8080/"
        },
        "id": "5voVR0RwHTlG",
        "outputId": "ccb783e7-1c89-4e1c-f2c7-fc4d0624c0ee"
      },
      "execution_count": 3,
      "outputs": [
        {
          "output_type": "execute_result",
          "data": {
            "text/plain": [
              "35"
            ]
          },
          "metadata": {},
          "execution_count": 3
        }
      ]
    },
    {
      "cell_type": "code",
      "source": [
        "9 / 2"
      ],
      "metadata": {
        "colab": {
          "base_uri": "https://localhost:8080/"
        },
        "id": "OYiMTskoHaY-",
        "outputId": "fb9886cd-fa04-49c9-beb0-c56abfbfcf3a"
      },
      "execution_count": 5,
      "outputs": [
        {
          "output_type": "execute_result",
          "data": {
            "text/plain": [
              "4.5"
            ]
          },
          "metadata": {},
          "execution_count": 5
        }
      ]
    },
    {
      "cell_type": "code",
      "source": [
        "primeira_operação = 2258 + 6354"
      ],
      "metadata": {
        "id": "chHdAbKZHqvN"
      },
      "execution_count": 9,
      "outputs": []
    },
    {
      "cell_type": "code",
      "source": [
        "segunda_operação = 8 - 5"
      ],
      "metadata": {
        "id": "QILlz1w5IGzl"
      },
      "execution_count": 12,
      "outputs": []
    },
    {
      "cell_type": "code",
      "source": [
        "exponencial = 2 ** 3\n",
        "print(exponencial)"
      ],
      "metadata": {
        "colab": {
          "base_uri": "https://localhost:8080/"
        },
        "id": "w_04F8Y9OEL3",
        "outputId": "deaafb4a-c313-4434-8a83-7079926b583c"
      },
      "execution_count": 31,
      "outputs": [
        {
          "output_type": "stream",
          "name": "stdout",
          "text": [
            "8\n"
          ]
        }
      ]
    },
    {
      "cell_type": "code",
      "source": [
        "print(primeira_operação)"
      ],
      "metadata": {
        "colab": {
          "base_uri": "https://localhost:8080/"
        },
        "id": "QSceW0WlIUmV",
        "outputId": "66816034-ff69-4627-debb-5290bed40001"
      },
      "execution_count": 10,
      "outputs": [
        {
          "output_type": "stream",
          "name": "stdout",
          "text": [
            "8612\n"
          ]
        }
      ]
    },
    {
      "cell_type": "code",
      "source": [
        "print(segunda_operação)"
      ],
      "metadata": {
        "colab": {
          "base_uri": "https://localhost:8080/"
        },
        "id": "fdareaJIIiqm",
        "outputId": "6c4d727b-9474-4da0-f97f-6f93b4ad1db4"
      },
      "execution_count": 13,
      "outputs": [
        {
          "output_type": "stream",
          "name": "stdout",
          "text": [
            "3\n"
          ]
        }
      ]
    },
    {
      "cell_type": "code",
      "source": [
        "multiplicacão = primeira_operação * segunda_operação"
      ],
      "metadata": {
        "id": "BmxdOld8KzZ7"
      },
      "execution_count": 21,
      "outputs": []
    },
    {
      "cell_type": "code",
      "source": [
        "print(multiplicacão)"
      ],
      "metadata": {
        "colab": {
          "base_uri": "https://localhost:8080/"
        },
        "id": "BC1YUgirItqu",
        "outputId": "fb1ce3a1-73d3-48be-ff8e-03c0d34c22d9"
      },
      "execution_count": 22,
      "outputs": [
        {
          "output_type": "stream",
          "name": "stdout",
          "text": [
            "25836\n"
          ]
        }
      ]
    },
    {
      "cell_type": "code",
      "source": [
        "print(\"O resultado da multiplicaçao é:\", multiplicacão, \"que é a multiplicação de\", primeira_operação, \"e\", segunda_operação)"
      ],
      "metadata": {
        "colab": {
          "base_uri": "https://localhost:8080/"
        },
        "id": "Y7QQ192uLS46",
        "outputId": "ebaf2ec8-73dc-4bfe-ce5b-e7f2afa95057"
      },
      "execution_count": 28,
      "outputs": [
        {
          "output_type": "stream",
          "name": "stdout",
          "text": [
            "O resultado da multiplicaçao é: 25836 que é a multiplicação de 8612 e 3\n"
          ]
        }
      ]
    },
    {
      "cell_type": "code",
      "source": [
        "print(f\"O resultado da multiplicaçao é: {multiplicacão} que é a multiplicação de  {primeira_operação} e {segunda_operação}\")"
      ],
      "metadata": {
        "colab": {
          "base_uri": "https://localhost:8080/"
        },
        "id": "I4aHI-OPL6eJ",
        "outputId": "ebe41385-4098-4e9d-94c9-2f0ace02f3f6"
      },
      "execution_count": 27,
      "outputs": [
        {
          "output_type": "stream",
          "name": "stdout",
          "text": [
            "O resultado da multiplicaçao é: 25836 que é a multiplicação de  8612 e 3\n"
          ]
        }
      ]
    },
    {
      "cell_type": "code",
      "source": [
        "nome1 = input(\"Qual o seu nome? \")"
      ],
      "metadata": {
        "colab": {
          "base_uri": "https://localhost:8080/"
        },
        "id": "i-0HFrsKOkoP",
        "outputId": "6370841c-7357-4544-e3b6-058c3f4ba868"
      },
      "execution_count": 34,
      "outputs": [
        {
          "name": "stdout",
          "output_type": "stream",
          "text": [
            "Qual o seu nome? Edson Galdino\n"
          ]
        }
      ]
    },
    {
      "cell_type": "code",
      "source": [
        "print(nome1)"
      ],
      "metadata": {
        "colab": {
          "base_uri": "https://localhost:8080/"
        },
        "id": "CXEh6A15O49X",
        "outputId": "87269ab0-f6c9-4441-c492-3c0f3a92b6b2"
      },
      "execution_count": 35,
      "outputs": [
        {
          "output_type": "stream",
          "name": "stdout",
          "text": [
            "Edson Galdino\n"
          ]
        }
      ]
    },
    {
      "cell_type": "code",
      "source": [
        "nome2 = input(\"Digite o seu nome: \")"
      ],
      "metadata": {
        "colab": {
          "base_uri": "https://localhost:8080/"
        },
        "id": "2qQcST_VPKLf",
        "outputId": "cd89e000-01ef-42fd-9bfb-d0c5f8d285af"
      },
      "execution_count": 36,
      "outputs": [
        {
          "name": "stdout",
          "output_type": "stream",
          "text": [
            "Digite o seu nome: João Galdino\n"
          ]
        }
      ]
    },
    {
      "cell_type": "code",
      "source": [
        "print(f\"Hoje estamos com {nome1} e {nome2} para essa live de Python!\")"
      ],
      "metadata": {
        "colab": {
          "base_uri": "https://localhost:8080/"
        },
        "id": "LLxwjlRAQScm",
        "outputId": "39fc0f65-8ee4-4e82-98cf-21eab82d9ac3"
      },
      "execution_count": 38,
      "outputs": [
        {
          "output_type": "stream",
          "name": "stdout",
          "text": [
            "Hoje estamos com Edson Galdino e João Galdino para essa live de Python!\n"
          ]
        }
      ]
    },
    {
      "cell_type": "code",
      "source": [
        "## Condissionais, quando a gente dá uma condição e se aquilo for verade vai acontecer uma coisa, se não for vai acontecer outra. ##"
      ],
      "metadata": {
        "id": "nwyWSaDwQtVt"
      },
      "execution_count": 39,
      "outputs": []
    },
    {
      "cell_type": "code",
      "source": [
        "idade1 = int(input(\"Qual a sua idade? \"))"
      ],
      "metadata": {
        "colab": {
          "base_uri": "https://localhost:8080/"
        },
        "id": "bkeFfHHnR_ZU",
        "outputId": "3e1edccb-17c9-4449-8fff-9a690df8951b"
      },
      "execution_count": 51,
      "outputs": [
        {
          "name": "stdout",
          "output_type": "stream",
          "text": [
            "Qual a sua idade? 18\n"
          ]
        }
      ]
    },
    {
      "cell_type": "code",
      "source": [
        "if int(idade1) >= 18:\n",
        "  print(\"Você é maior de idade!\")\n",
        "  print(\"Você pode entrar!\")\n",
        "else:\n",
        "  print(\"Você é menor de idade!\")\n",
        "  print(\"Você não pode entrar!\")\n",
        ""
      ],
      "metadata": {
        "colab": {
          "base_uri": "https://localhost:8080/"
        },
        "id": "Nez0pfWmSOMM",
        "outputId": "9b922747-fb19-412d-be8d-fc829bab0bbb"
      },
      "execution_count": 52,
      "outputs": [
        {
          "output_type": "stream",
          "name": "stdout",
          "text": [
            "Você é maior de idade!\n",
            "Você pode entrar!\n"
          ]
        }
      ]
    },
    {
      "cell_type": "code",
      "source": [
        "def verificar_idade(idade):\n",
        "  if int(idade) >= 18:\n",
        "    print(\"Você é maior de idade!\")\n",
        "    print(\"Você pode entrar!\")\n",
        "  else:\n",
        "    print(\"Você é menor de idade!\")\n",
        "    print(\"Você não pode entrar!\")"
      ],
      "metadata": {
        "id": "xZBbQQ1oUvEx"
      },
      "execution_count": 55,
      "outputs": []
    },
    {
      "cell_type": "code",
      "source": [
        "verificar_idade(17)"
      ],
      "metadata": {
        "colab": {
          "base_uri": "https://localhost:8080/"
        },
        "id": "vXvKLoX7VRiB",
        "outputId": "51297f13-87dd-485f-943b-30b37874e34c"
      },
      "execution_count": 57,
      "outputs": [
        {
          "output_type": "stream",
          "name": "stdout",
          "text": [
            "Você é menor de idade!\n",
            "Você não pode entrar!\n"
          ]
        }
      ]
    },
    {
      "cell_type": "code",
      "source": [
        "## A variavel estrutuda de repetição em Python, que é o while, que é o enquanto. ##"
      ],
      "metadata": {
        "id": "dSGrg2clVslA"
      },
      "execution_count": null,
      "outputs": []
    },
    {
      "cell_type": "code",
      "source": [
        "contador = 2\n",
        "while contador < 5:\n",
        "  print(f\"Contagem: {contador}\")\n",
        "  contador = contador + 1\n",
        "print(\"Fim da contagem\")"
      ],
      "metadata": {
        "colab": {
          "base_uri": "https://localhost:8080/"
        },
        "id": "2U7_q13aWkxQ",
        "outputId": "9cf4b98d-08db-4224-8ea4-8e40394cd742"
      },
      "execution_count": 59,
      "outputs": [
        {
          "output_type": "stream",
          "name": "stdout",
          "text": [
            "Contagem: 2\n",
            "Contagem: 3\n",
            "Contagem: 4\n",
            "Fim da contagem\n"
          ]
        }
      ]
    },
    {
      "cell_type": "code",
      "source": [
        "modelos = [\"2.0 flash\", \"2.5 pro\", \"2.5 flash\"]"
      ],
      "metadata": {
        "id": "Tu_3tAhrXQO3"
      },
      "execution_count": 66,
      "outputs": []
    },
    {
      "cell_type": "code",
      "source": [
        "modelos"
      ],
      "metadata": {
        "colab": {
          "base_uri": "https://localhost:8080/"
        },
        "id": "7J59vxDMYfkG",
        "outputId": "636c3f3a-740b-4780-85e6-3a67b728840b"
      },
      "execution_count": 67,
      "outputs": [
        {
          "output_type": "execute_result",
          "data": {
            "text/plain": [
              "['2.0 flash', '2.5 pro', '2.5 flash']"
            ]
          },
          "metadata": {},
          "execution_count": 67
        }
      ]
    },
    {
      "cell_type": "code",
      "source": [
        "for modelo in modelos:\n",
        "  print(modelo)"
      ],
      "metadata": {
        "colab": {
          "base_uri": "https://localhost:8080/"
        },
        "id": "mPWHfrIRZBxG",
        "outputId": "69dabae2-132a-4c8b-91b4-9a8f3331ac39"
      },
      "execution_count": 68,
      "outputs": [
        {
          "output_type": "stream",
          "name": "stdout",
          "text": [
            "2.0 flash\n",
            "2.5 pro\n",
            "2.5 flash\n"
          ]
        }
      ]
    }
  ]
}